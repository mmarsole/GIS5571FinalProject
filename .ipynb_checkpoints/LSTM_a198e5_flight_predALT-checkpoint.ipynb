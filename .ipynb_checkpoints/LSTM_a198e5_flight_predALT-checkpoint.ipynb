{
 "cells": [
  {
   "cell_type": "markdown",
   "metadata": {},
   "source": [
    "### Replicating the LSTM demo from \"How to apply LSTM using PyTorch\" (AHMAD ANIS) on one flight path:\n",
    "https://cnvrg.io/pytorch-lstm/\n",
    "\n",
    "**Note to self: i can/should condense the code if i make more def (functions) for repeatable code.**\n",
    "* def for preprosessing data\n",
    "* def for comparing trained model to all data\n",
    "* def for reformating output\n",
    "* def for plotting visuals\n",
    "* def for rmse\n",
    "\n",
    "Overall, it looks like my lstm isn't performing as well as i would have hope...especialy for the lon values. Might try other flight paths, or linear regression. ¯\\_(ツ)_/¯"
   ]
  },
  {
   "cell_type": "code",
   "execution_count": 1,
   "metadata": {},
   "outputs": [],
   "source": [
    "#importing necessary packages\n",
    "import numpy as np\n",
    "import pandas as pd\n",
    "import torch\n",
    "import torch.nn as nn\n",
    "from torch.autograd import Variable\n",
    "import matplotlib.pyplot as plt\n",
    "from sklearn.preprocessing import StandardScaler, MinMaxScaler\n",
    "#import contextily-->trying to use to add basemaps\n",
    "import sklearn.metrics\n",
    "import math"
   ]
  },
  {
   "cell_type": "markdown",
   "metadata": {},
   "source": [
    "### Flight a198e5 \n",
    "This flight is an arrival to Chicago's airport. There are many recorded points near the end of its flight that are from the same location (becasue it has docked for deboarding). It does represent altitude change, and likely would be affected by airspace B classification. "
   ]
  },
  {
   "cell_type": "code",
   "execution_count": 2,
   "metadata": {},
   "outputs": [
    {
     "name": "stdout",
     "output_type": "stream",
     "text": [
      "228\n"
     ]
    },
    {
     "data": {
      "text/html": [
       "<div>\n",
       "<style scoped>\n",
       "    .dataframe tbody tr th:only-of-type {\n",
       "        vertical-align: middle;\n",
       "    }\n",
       "\n",
       "    .dataframe tbody tr th {\n",
       "        vertical-align: top;\n",
       "    }\n",
       "\n",
       "    .dataframe thead th {\n",
       "        text-align: right;\n",
       "    }\n",
       "</style>\n",
       "<table border=\"1\" class=\"dataframe\">\n",
       "  <thead>\n",
       "    <tr style=\"text-align: right;\">\n",
       "      <th></th>\n",
       "      <th>OBJECTID</th>\n",
       "      <th>icao24</th>\n",
       "      <th>lat</th>\n",
       "      <th>lon</th>\n",
       "      <th>velocity</th>\n",
       "      <th>heading</th>\n",
       "      <th>vertrate</th>\n",
       "      <th>callsign</th>\n",
       "      <th>onground</th>\n",
       "      <th>alert</th>\n",
       "      <th>spi</th>\n",
       "      <th>squawk</th>\n",
       "      <th>baroaltitu</th>\n",
       "      <th>geoaltitud</th>\n",
       "      <th>lastposupd</th>\n",
       "      <th>lastcontac</th>\n",
       "    </tr>\n",
       "    <tr>\n",
       "      <th>time</th>\n",
       "      <th></th>\n",
       "      <th></th>\n",
       "      <th></th>\n",
       "      <th></th>\n",
       "      <th></th>\n",
       "      <th></th>\n",
       "      <th></th>\n",
       "      <th></th>\n",
       "      <th></th>\n",
       "      <th></th>\n",
       "      <th></th>\n",
       "      <th></th>\n",
       "      <th></th>\n",
       "      <th></th>\n",
       "      <th></th>\n",
       "      <th></th>\n",
       "    </tr>\n",
       "  </thead>\n",
       "  <tbody>\n",
       "    <tr>\n",
       "      <th>1590364810</th>\n",
       "      <td>1</td>\n",
       "      <td>a198e5</td>\n",
       "      <td>39.353851</td>\n",
       "      <td>-85.572987</td>\n",
       "      <td>245.514862</td>\n",
       "      <td>342.438279</td>\n",
       "      <td>-0.32512</td>\n",
       "      <td>EJM16</td>\n",
       "      <td>False</td>\n",
       "      <td>False</td>\n",
       "      <td>False</td>\n",
       "      <td>2212</td>\n",
       "      <td>9144.0</td>\n",
       "      <td>9532.62</td>\n",
       "      <td>1.590365e+09</td>\n",
       "      <td>1.590365e+09</td>\n",
       "    </tr>\n",
       "    <tr>\n",
       "      <th>1590364820</th>\n",
       "      <td>2</td>\n",
       "      <td>a198e5</td>\n",
       "      <td>39.375698</td>\n",
       "      <td>-85.581909</td>\n",
       "      <td>249.258603</td>\n",
       "      <td>342.462562</td>\n",
       "      <td>0.00000</td>\n",
       "      <td>EJM16</td>\n",
       "      <td>False</td>\n",
       "      <td>False</td>\n",
       "      <td>False</td>\n",
       "      <td>2212</td>\n",
       "      <td>9144.0</td>\n",
       "      <td>9532.62</td>\n",
       "      <td>1.590365e+09</td>\n",
       "      <td>1.590365e+09</td>\n",
       "    </tr>\n",
       "    <tr>\n",
       "      <th>1590364830</th>\n",
       "      <td>3</td>\n",
       "      <td>a198e5</td>\n",
       "      <td>39.395966</td>\n",
       "      <td>-85.590124</td>\n",
       "      <td>252.511839</td>\n",
       "      <td>342.450998</td>\n",
       "      <td>0.32512</td>\n",
       "      <td>EJM16</td>\n",
       "      <td>False</td>\n",
       "      <td>False</td>\n",
       "      <td>False</td>\n",
       "      <td>2212</td>\n",
       "      <td>9144.0</td>\n",
       "      <td>9532.62</td>\n",
       "      <td>1.590365e+09</td>\n",
       "      <td>1.590365e+09</td>\n",
       "    </tr>\n",
       "  </tbody>\n",
       "</table>\n",
       "</div>"
      ],
      "text/plain": [
       "            OBJECTID  icao24        lat        lon    velocity     heading  \\\n",
       "time                                                                         \n",
       "1590364810         1  a198e5  39.353851 -85.572987  245.514862  342.438279   \n",
       "1590364820         2  a198e5  39.375698 -85.581909  249.258603  342.462562   \n",
       "1590364830         3  a198e5  39.395966 -85.590124  252.511839  342.450998   \n",
       "\n",
       "            vertrate  callsign  onground  alert    spi  squawk  baroaltitu  \\\n",
       "time                                                                         \n",
       "1590364810  -0.32512  EJM16        False  False  False    2212      9144.0   \n",
       "1590364820   0.00000  EJM16        False  False  False    2212      9144.0   \n",
       "1590364830   0.32512  EJM16        False  False  False    2212      9144.0   \n",
       "\n",
       "            geoaltitud    lastposupd    lastcontac  \n",
       "time                                                \n",
       "1590364810     9532.62  1.590365e+09  1.590365e+09  \n",
       "1590364820     9532.62  1.590365e+09  1.590365e+09  \n",
       "1590364830     9532.62  1.590365e+09  1.590365e+09  "
      ]
     },
     "execution_count": 2,
     "metadata": {},
     "output_type": "execute_result"
    }
   ],
   "source": [
    "#reading and inspecting the data for one flight called 'a198e5'\n",
    "df = pd.read_csv('Flight_Data/a198e5.csv', index_col = 'time', parse_dates = True)\n",
    "print(len(df))\n",
    "df.head(3)\n"
   ]
  },
  {
   "cell_type": "code",
   "execution_count": 3,
   "metadata": {},
   "outputs": [],
   "source": [
    "# REPLACING ALL NAN values in my altitude column for 0 (becasue it is on the ground they no longer report the alt)\n",
    "#a nessacery step if i hope to predict altiude (LSTM doesn't work with nan)\n",
    "df['geoaltitud'] = df['geoaltitud'].fillna(0)\n",
    "\n",
    "#inspect data to make sure it worked\n",
    "#df.tail(5)"
   ]
  },
  {
   "cell_type": "markdown",
   "metadata": {},
   "source": [
    "### Choosing which variables I will predict and which variables will help predict the dependant variables. \n",
    "\n",
    "predictors (independent variables):\n",
    "`velocity`\n",
    "`heading`\n",
    "`vertrate`\n",
    "`lastposupd`\n",
    "`lastcontac`\n",
    "\n",
    "predicted (dependant variables):\n",
    "`lat`\n",
    "`lon`"
   ]
  },
  {
   "cell_type": "code",
   "execution_count": 5,
   "metadata": {},
   "outputs": [
    {
     "data": {
      "text/html": [
       "<div>\n",
       "<style scoped>\n",
       "    .dataframe tbody tr th:only-of-type {\n",
       "        vertical-align: middle;\n",
       "    }\n",
       "\n",
       "    .dataframe tbody tr th {\n",
       "        vertical-align: top;\n",
       "    }\n",
       "\n",
       "    .dataframe thead th {\n",
       "        text-align: right;\n",
       "    }\n",
       "</style>\n",
       "<table border=\"1\" class=\"dataframe\">\n",
       "  <thead>\n",
       "    <tr style=\"text-align: right;\">\n",
       "      <th></th>\n",
       "      <th>lat</th>\n",
       "      <th>lon</th>\n",
       "    </tr>\n",
       "    <tr>\n",
       "      <th>time</th>\n",
       "      <th></th>\n",
       "      <th></th>\n",
       "    </tr>\n",
       "  </thead>\n",
       "  <tbody>\n",
       "    <tr>\n",
       "      <th>1590364810</th>\n",
       "      <td>39.353851</td>\n",
       "      <td>-85.572987</td>\n",
       "    </tr>\n",
       "    <tr>\n",
       "      <th>1590364820</th>\n",
       "      <td>39.375698</td>\n",
       "      <td>-85.581909</td>\n",
       "    </tr>\n",
       "    <tr>\n",
       "      <th>1590364830</th>\n",
       "      <td>39.395966</td>\n",
       "      <td>-85.590124</td>\n",
       "    </tr>\n",
       "    <tr>\n",
       "      <th>1590364840</th>\n",
       "      <td>39.419266</td>\n",
       "      <td>-85.599617</td>\n",
       "    </tr>\n",
       "    <tr>\n",
       "      <th>1590364850</th>\n",
       "      <td>39.440552</td>\n",
       "      <td>-85.608275</td>\n",
       "    </tr>\n",
       "    <tr>\n",
       "      <th>...</th>\n",
       "      <td>...</td>\n",
       "      <td>...</td>\n",
       "    </tr>\n",
       "    <tr>\n",
       "      <th>1590367040</th>\n",
       "      <td>41.785102</td>\n",
       "      <td>-87.760003</td>\n",
       "    </tr>\n",
       "    <tr>\n",
       "      <th>1590367050</th>\n",
       "      <td>41.785102</td>\n",
       "      <td>-87.760003</td>\n",
       "    </tr>\n",
       "    <tr>\n",
       "      <th>1590367060</th>\n",
       "      <td>41.785102</td>\n",
       "      <td>-87.760003</td>\n",
       "    </tr>\n",
       "    <tr>\n",
       "      <th>1590367070</th>\n",
       "      <td>41.785102</td>\n",
       "      <td>-87.760003</td>\n",
       "    </tr>\n",
       "    <tr>\n",
       "      <th>1590367080</th>\n",
       "      <td>41.785102</td>\n",
       "      <td>-87.760003</td>\n",
       "    </tr>\n",
       "  </tbody>\n",
       "</table>\n",
       "<p>228 rows × 2 columns</p>\n",
       "</div>"
      ],
      "text/plain": [
       "                  lat        lon\n",
       "time                            \n",
       "1590364810  39.353851 -85.572987\n",
       "1590364820  39.375698 -85.581909\n",
       "1590364830  39.395966 -85.590124\n",
       "1590364840  39.419266 -85.599617\n",
       "1590364850  39.440552 -85.608275\n",
       "...               ...        ...\n",
       "1590367040  41.785102 -87.760003\n",
       "1590367050  41.785102 -87.760003\n",
       "1590367060  41.785102 -87.760003\n",
       "1590367070  41.785102 -87.760003\n",
       "1590367080  41.785102 -87.760003\n",
       "\n",
       "[228 rows x 2 columns]"
      ]
     },
     "execution_count": 5,
     "metadata": {},
     "output_type": "execute_result"
    }
   ],
   "source": [
    "# Looks like x retains all the data used to prdict y... (velocity, heading, vertrate, latposupd, and lastcontact)\n",
    "#subtractive method\n",
    "# x = df.iloc[:,4:16]\n",
    "# x = df.drop(\"callsign\", axis=1)\n",
    "# x = x.drop(\"onground\", axis=1)\n",
    "# x = x.drop(\"alert\", axis=1)\n",
    "# x = x.drop(\"spi\", axis=1)\n",
    "# x = x.drop(\"squawk\", axis=1)\n",
    "# x = x.drop(\"baroaltitu\", axis=1)\n",
    "# x = x.drop(\"geoaltitud\", axis=1)\n",
    "# x = x.iloc[:, 4:9]\n",
    "\n",
    "#just ask for the columns i want\n",
    "columns = ['velocity', 'heading', 'vertrate']\n",
    "x =df[columns]\n",
    "# y are both the lat and lon columns (later try and predict alt as well...)\n",
    "y =df.iloc[:, 2:4]\n",
    "\n",
    "x"
   ]
  },
  {
   "cell_type": "code",
   "execution_count": 6,
   "metadata": {},
   "outputs": [],
   "source": [
    "# rescaling all of my data....(based on the tutorial) y-> MinMax and x -> standard\n",
    "#mm used to scale values between 0-1\n",
    "mm = MinMaxScaler()\n",
    "ss = StandardScaler()\n",
    "\n",
    "x_ss = ss.fit_transform(x)\n",
    "y_mm = mm.fit_transform(y)\n",
    "\n",
    "#now an array, with values varying between 0.46 and 2.59? Has a len of 253, the number row in the Starbuck_data\n",
    "#len(x_ss)\n",
    "\n",
    "#values between 0 and 1\n",
    "#y_mm"
   ]
  },
  {
   "cell_type": "markdown",
   "metadata": {},
   "source": [
    "## spliting the data into 2 parts (train and test)"
   ]
  },
  {
   "cell_type": "code",
   "execution_count": 7,
   "metadata": {},
   "outputs": [
    {
     "name": "stdout",
     "output_type": "stream",
     "text": [
      "Training Shape (200, 3) (200, 2)\n",
      "Testing Shape (28, 3) (28, 2)\n"
     ]
    }
   ],
   "source": [
    "# may need to choose other arbitary threshold...this leaves 28 point for testing\n",
    "#the first 200 for training,\n",
    "\n",
    "x_train = x_ss[:200,:] #first 200 rows\n",
    "x_test = x_ss[200:,:] #whatever remains after 200\n",
    "\n",
    "\n",
    "y_train = y_mm[:200, :]\n",
    "y_test = y_mm[200:,:]\n",
    "\n",
    "print(\"Training Shape\", x_train.shape, y_train.shape)\n",
    "print(\"Testing Shape\", x_test.shape, y_test.shape) "
   ]
  },
  {
   "cell_type": "code",
   "execution_count": 8,
   "metadata": {
    "tags": []
   },
   "outputs": [
    {
     "data": {
      "text/plain": [
       "torch.Tensor"
      ]
     },
     "execution_count": 8,
     "metadata": {},
     "output_type": "execute_result"
    }
   ],
   "source": [
    "type(torch.Tensor(x_train))"
   ]
  },
  {
   "cell_type": "markdown",
   "metadata": {
    "tags": []
   },
   "source": [
    "### convert our numpy to tensors"
   ]
  },
  {
   "cell_type": "code",
   "execution_count": 9,
   "metadata": {},
   "outputs": [
    {
     "data": {
      "text/plain": [
       "torch.Tensor"
      ]
     },
     "execution_count": 9,
     "metadata": {},
     "output_type": "execute_result"
    }
   ],
   "source": [
    "x_train_tensors = Variable(torch.Tensor(x_train))\n",
    "x_test_tensors = Variable(torch.Tensor(x_test))\n",
    "\n",
    "y_train_tensors = Variable(torch.Tensor(y_train))\n",
    "y_test_tensors = Variable(torch.Tensor(y_test)) \n",
    "\n",
    "type(x_train_tensors)"
   ]
  },
  {
   "cell_type": "markdown",
   "metadata": {},
   "source": [
    "## adding another dimension to tensors, for time"
   ]
  },
  {
   "cell_type": "code",
   "execution_count": 10,
   "metadata": {},
   "outputs": [
    {
     "name": "stdout",
     "output_type": "stream",
     "text": [
      "Training Shape torch.Size([200, 1, 3]) torch.Size([200, 2])\n",
      "Testing Shape torch.Size([28, 1, 3]) torch.Size([28, 2])\n"
     ]
    }
   ],
   "source": [
    "#import format for lSTMs needs to have each TIMESTAMP\n",
    "#reshaping to rows, timestamps, features\n",
    "\n",
    "x_train_tensors_final = torch.reshape(x_train_tensors,   (x_train_tensors.shape[0], 1, x_train_tensors.shape[1]))\n",
    "x_test_tensors_final = torch.reshape(x_test_tensors,  (x_test_tensors.shape[0], 1, x_test_tensors.shape[1])) \n",
    "\n",
    "#comparing the tensor_final with the previous there is another dimension... why? for the timestamp?\n",
    "print(\"Training Shape\", x_train_tensors_final.shape, y_train_tensors.shape)\n",
    "print(\"Testing Shape\", x_test_tensors_final.shape, y_test_tensors.shape)"
   ]
  },
  {
   "cell_type": "code",
   "execution_count": 11,
   "metadata": {},
   "outputs": [
    {
     "data": {
      "text/plain": [
       "3"
      ]
     },
     "execution_count": 11,
     "metadata": {},
     "output_type": "execute_result"
    }
   ],
   "source": [
    "x_test_tensors.shape[1]"
   ]
  },
  {
   "cell_type": "markdown",
   "metadata": {},
   "source": [
    "### Building the LSTM\n",
    "\n",
    "based entirely on the demo"
   ]
  },
  {
   "cell_type": "code",
   "execution_count": 17,
   "metadata": {},
   "outputs": [],
   "source": [
    "class LSTM1(nn.Module):\n",
    "    def __init__(self, num_classes, input_size, hidden_size, num_layers, seq_length):\n",
    "        super(LSTM1, self).__init__()\n",
    "        self.num_classes = num_classes #number of classes (number of output variables)\n",
    "        self.num_layers = num_layers #number of layers\n",
    "        self.input_size = input_size #input size  (number of input variables)\n",
    "        self.hidden_size = hidden_size #hidden state\n",
    "        self.seq_length = seq_length #sequence length\n",
    "\n",
    "        self.lstm = nn.LSTM(input_size=input_size, hidden_size=hidden_size,\n",
    "                          num_layers=num_layers, batch_first=True) #lstm\n",
    "        self.fc_1 =  nn.Linear(hidden_size, 128) #fully connected 1\n",
    "        self.fc = nn.Linear(128, num_classes) #fully connected last layer\n",
    "\n",
    "        self.relu = nn.ReLU()\n",
    "    \n",
    "    #pass in input a t time t\n",
    "    def forward(self,x):\n",
    "        h_0 = Variable(torch.zeros(self.num_layers, x.size(0), self.hidden_size)) #hidden state\n",
    "        c_0 = Variable(torch.zeros(self.num_layers, x.size(0), self.hidden_size)) #internal state\n",
    "        # Propagate input through LSTM\n",
    "        output, (hn, cn) = self.lstm(x, (h_0, c_0)) #lstm with input, hidden, and internal state\n",
    "        hn = hn.view(-1, self.hidden_size) #reshaping the data for Dense layer next\n",
    "        out = self.relu(hn)\n",
    "        out = self.fc_1(out) #first Dense\n",
    "        out = self.relu(out) #relu\n",
    "        out = self.fc(out) #Final Output\n",
    "        return out\n",
    "    \n",
    "    "
   ]
  },
  {
   "cell_type": "code",
   "execution_count": 18,
   "metadata": {},
   "outputs": [
    {
     "data": {
      "text/plain": [
       "LSTM1(\n",
       "  (lstm): LSTM(3, 2, batch_first=True)\n",
       "  (fc_1): Linear(in_features=2, out_features=128, bias=True)\n",
       "  (fc): Linear(in_features=128, out_features=2, bias=True)\n",
       "  (relu): ReLU()\n",
       ")"
      ]
     },
     "execution_count": 18,
     "metadata": {},
     "output_type": "execute_result"
    }
   ],
   "source": [
    "# defining some input variables\n",
    "\n",
    "#frist 2 variables aren't part of the defined input parameter?? when are they used?- Later when we train the lstm\n",
    "num_epochs = 1000 #1000 epochs\n",
    "learning_rate = 0.001 #0.001 lr\n",
    "\n",
    "input_size = 3 #number of features\n",
    "hidden_size = 2 #number of features in hidden state\n",
    "num_layers = 1 #number of stacked lstm layers\n",
    "\n",
    "num_classes = 2 #number of output classes\n",
    "\n",
    "lstm1 = LSTM1(num_classes, input_size, hidden_size, num_layers, x_train_tensors_final.shape[1])\n",
    "lstm1"
   ]
  },
  {
   "cell_type": "code",
   "execution_count": 19,
   "metadata": {},
   "outputs": [
    {
     "name": "stdout",
     "output_type": "stream",
     "text": [
      "Epoch: 0, loss: 0.40739\n",
      "Epoch: 100, loss: 0.06378\n",
      "Epoch: 200, loss: 0.02139\n",
      "Epoch: 300, loss: 0.01194\n",
      "Epoch: 400, loss: 0.01102\n",
      "Epoch: 500, loss: 0.01066\n",
      "Epoch: 600, loss: 0.01031\n",
      "Epoch: 700, loss: 0.01006\n",
      "Epoch: 800, loss: 0.00986\n",
      "Epoch: 900, loss: 0.00959\n"
     ]
    }
   ],
   "source": [
    "#defining our loss funstion and optimizer...\n",
    "criterion = torch.nn.MSELoss()    # mean-squared error for regression\n",
    "optimizer = torch.optim.Adam(lstm1.parameters(), lr=learning_rate) \n",
    "\n",
    "# now we will loop pver each epoch, calculate a loss, and imporve weights via the optimizer\n",
    "for epoch in range(num_epochs):\n",
    "    outputs = lstm1.forward(x_train_tensors_final) #forward pass\n",
    "    optimizer.zero_grad() #caluclate the gradient, manually setting to 0\n",
    " \n",
    "  # obtain the loss function\n",
    "    loss = criterion(outputs, y_train_tensors)\n",
    " \n",
    "    loss.backward() #calculates the loss of the loss function\n",
    " \n",
    "    optimizer.step() #improve from loss, i.e backprop\n",
    "    if epoch % 100 == 0:\n",
    "        print(\"Epoch: %d, loss: %1.5f\" % (epoch, loss.item()))"
   ]
  },
  {
   "cell_type": "markdown",
   "metadata": {},
   "source": [
    "### Saving currently trained LSTM model to disc\n",
    "based on: https://pytorch.org/tutorials/beginner/saving_loading_models.html\n",
    "\n",
    "need make/state_dict first , and must save model after intitializing it /optimizing it"
   ]
  },
  {
   "cell_type": "code",
   "execution_count": 20,
   "metadata": {},
   "outputs": [],
   "source": [
    "torch.save(lstm1.state_dict(), \"Saved_LSTM_Models/lstm1_3inputs_2outputs.pt\")"
   ]
  },
  {
   "cell_type": "markdown",
   "metadata": {},
   "source": [
    "### Comparing with test data (?)"
   ]
  },
  {
   "cell_type": "code",
   "execution_count": 21,
   "metadata": {},
   "outputs": [],
   "source": [
    "# don't actually know what's happening here...\n",
    "df_X_ss = ss.transform(x) #old transformers\n",
    "df_y_mm = mm.transform(y) #old transformers\n",
    "\n",
    "#print(df_X_ss, len(df_X_ss)) #looks the same when we previously used .fit_transform\n",
    "\n",
    "df_X_ss = Variable(torch.Tensor(df_X_ss)) #converting to Tensors\n",
    "df_y_mm = Variable(torch.Tensor(df_y_mm))\n",
    "#reshaping the dataset\n",
    "df_X_ss = torch.reshape(df_X_ss, (df_X_ss.shape[0], 1, df_X_ss.shape[1])) \n",
    "\n"
   ]
  },
  {
   "cell_type": "code",
   "execution_count": 22,
   "metadata": {},
   "outputs": [],
   "source": [
    "# looking at our LSTM performance\n",
    "train_predict = lstm1(df_X_ss)#forward pass for all data rows\n",
    "data_predict = train_predict.data.numpy() #numpy conversion\n",
    "dataY_plot = df_y_mm.data.numpy()\n",
    "\n",
    "data_predict = mm.inverse_transform(data_predict) #reverse transformation\n",
    "dataY_plot = mm.inverse_transform(dataY_plot)\n"
   ]
  },
  {
   "cell_type": "code",
   "execution_count": 23,
   "metadata": {},
   "outputs": [],
   "source": [
    "# must reshape the data so i can plot it...\n",
    "dataY_plot_f = dataY_plot.flatten()\n",
    "p_lat = []\n",
    "p_lon = []\n",
    "a_lat = []\n",
    "a_lon = []\n",
    "for index, element in enumerate(dataY_plot_f):\n",
    "    if index % 2 == 0:\n",
    "        a_lat.append(element)\n",
    "    else:\n",
    "        a_lon.append (element)\n",
    "        \n",
    "data_predict_f = data_predict.flatten()\n",
    "for index, element in enumerate(data_predict_f):\n",
    "    if index % 2 == 0:\n",
    "        p_lat.append(element)\n",
    "    else:\n",
    "        p_lon.append (element)"
   ]
  },
  {
   "cell_type": "code",
   "execution_count": 24,
   "metadata": {},
   "outputs": [
    {
     "data": {
      "text/plain": [
       "Text(0.5, 1.0, 'Predictions for Flight a198e5')"
      ]
     },
     "execution_count": 24,
     "metadata": {},
     "output_type": "execute_result"
    },
    {
     "data": {
      "image/png": "[encoded data removed]",
      "text/plain": [
       "<Figure size 864x648 with 2 Axes>"
      ]
     },
     "metadata": {
      "needs_background": "light"
     },
     "output_type": "display_data"
    }
   ],
   "source": [
    "# the data is too spread out for me to see actual comparisons at the decimal level.... \n",
    "# either (1)  plot just the results for the lat (linerally) then the long (linerally)\n",
    "#        (2)  or plot lat/long as a scatterplot \n",
    "\n",
    "f, ax = plt.subplots(1,2, figsize=(12, 9))\n",
    "ax[0].scatter(a_lat,a_lon, label='Actual Data', alpha= .5)#actual data\n",
    "ax[0].legend(loc='upper left')\n",
    "ax[0].scatter(p_lat,p_lon, label='Predicted Data')\n",
    "ax[0].legend(loc='upper left')\n",
    "ax[0].axvline(x=p_lat[199], c='r', linestyle='--')\n",
    "ax[0].axhline(y=p_lon[199], c='r', linestyle='--')\n",
    "ax[0].set_title('Flight a198e5')\n",
    "\n",
    "ax[1].scatter(a_lat[200:],a_lon[200:], label='Actual Data', alpha= .5)#actual data\n",
    "ax[1].legend(loc='upper left')\n",
    "ax[1].scatter(p_lat[200:],p_lon[200:], label='Predicted Data')\n",
    "ax[1].legend(loc='upper left')\n",
    "ax[1].set_title('Predictions for Flight a198e5')\n",
    "#data_predict\n"
   ]
  },
  {
   "cell_type": "code",
   "execution_count": 25,
   "metadata": {},
   "outputs": [
    {
     "name": "stdout",
     "output_type": "stream",
     "text": [
      "lat error: 0.24568012839500447 lon error: 0.17593402051957535\n",
      "lat error: 0.00891876179912948 lon error: 0.03543853349141568\n"
     ]
    }
   ],
   "source": [
    "mse_lat = sklearn.metrics.mean_squared_error(a_lat, p_lat)\n",
    "rmse_lat = math.sqrt(mse_lat)\n",
    "mse_lon = sklearn.metrics.mean_squared_error(a_lon, p_lon)\n",
    "rmse_lon = math.sqrt(mse_lon)\n",
    "\n",
    "#error based on all of the data (training and test)\n",
    "print(\"lat error:\", rmse_lat, \"lon error:\", rmse_lon)\n",
    "\n",
    "mse_lat_test = sklearn.metrics.mean_squared_error(a_lat[200:], p_lat[200:])\n",
    "rmse_lat_test = math.sqrt(mse_lat_test)\n",
    "mse_lon_test = sklearn.metrics.mean_squared_error(a_lon[200:], p_lon[200:])\n",
    "rmse_lon_test = math.sqrt(mse_lon_test)\n",
    "\n",
    "#Notices the error is larger when looking at only the test data. RMSE is measured in degrees \n",
    "print(\"lat error:\", rmse_lat_test, \"lon error:\", rmse_lon_test)\n",
    "\n",
    "#what does this mean in terms of meters or another unit of measure? \n",
    "    #converting degrees to meters is a problem, and depends on where in the globe the degree is... "
   ]
  },
  {
   "cell_type": "markdown",
   "metadata": {},
   "source": [
    "# Results and possible conclusions\n",
    "Based on this graph, I can surmise that the LSTM predicted the aircraft wouldn't move near the end of the data (after 200th observation or so). I believe it reached these conculsions since the x data (the variables velocity, heading, vertrate, etc.) didn't show much changes since this specific flight is one that has arrived at O'Hare Internation Airport and thus has little movement in near the end of its timed oberservation. \n",
    "\n",
    "Looking at the RMSE for the entire flight path (which would include accruarcy measre for training and testing data) and the RMSE only for the test data, you can see our test data has less error. This may be due to the fact that the last 20 pts for this flight are the same, and thus have the same error (consistency). \n",
    "\n",
    "**Need To Do**\n",
    "* I want to try and use this flight path but only look at predicting up to where it stops moving (need to subset the data again by concatinating it on the end). \n",
    "* I have yet to incorporate weather data or airspace classifcation into the model. Nor do i understand or know how to twick the currrent LSTM for a better performance (change the optimizers, more epochs, nore hidden layers, ????)\n",
    "\n",
    "**Look further at the flight 89902f** \n",
    "* I would still like to explore how this would work for a non-arrival flight (or a non-linear/predictable flight path). \n"
   ]
  },
  {
   "cell_type": "markdown",
   "metadata": {},
   "source": [
    "## flight 89902f (neither arrival nor departure)\n",
    "This flight maitains a crusing altitude that passes chicago's airport moving in an NW direction.  "
   ]
  },
  {
   "cell_type": "code",
   "execution_count": 27,
   "metadata": {},
   "outputs": [
    {
     "name": "stdout",
     "output_type": "stream",
     "text": [
      "342\n"
     ]
    },
    {
     "data": {
      "text/html": [
       "<div>\n",
       "<style scoped>\n",
       "    .dataframe tbody tr th:only-of-type {\n",
       "        vertical-align: middle;\n",
       "    }\n",
       "\n",
       "    .dataframe tbody tr th {\n",
       "        vertical-align: top;\n",
       "    }\n",
       "\n",
       "    .dataframe thead th {\n",
       "        text-align: right;\n",
       "    }\n",
       "</style>\n",
       "<table border=\"1\" class=\"dataframe\">\n",
       "  <thead>\n",
       "    <tr style=\"text-align: right;\">\n",
       "      <th></th>\n",
       "      <th>OBJECTID</th>\n",
       "      <th>icao24</th>\n",
       "      <th>lat</th>\n",
       "      <th>lon</th>\n",
       "      <th>velocity</th>\n",
       "      <th>heading</th>\n",
       "      <th>vertrate</th>\n",
       "      <th>callsign</th>\n",
       "      <th>onground</th>\n",
       "      <th>alert</th>\n",
       "      <th>spi</th>\n",
       "      <th>squawk</th>\n",
       "      <th>baroaltitude</th>\n",
       "      <th>geoaltitude</th>\n",
       "      <th>lastposupdate</th>\n",
       "      <th>lastcontact</th>\n",
       "    </tr>\n",
       "    <tr>\n",
       "      <th>time</th>\n",
       "      <th></th>\n",
       "      <th></th>\n",
       "      <th></th>\n",
       "      <th></th>\n",
       "      <th></th>\n",
       "      <th></th>\n",
       "      <th></th>\n",
       "      <th></th>\n",
       "      <th></th>\n",
       "      <th></th>\n",
       "      <th></th>\n",
       "      <th></th>\n",
       "      <th></th>\n",
       "      <th></th>\n",
       "      <th></th>\n",
       "      <th></th>\n",
       "    </tr>\n",
       "  </thead>\n",
       "  <tbody>\n",
       "    <tr>\n",
       "      <th>1590364980</th>\n",
       "      <td>1</td>\n",
       "      <td>89902f</td>\n",
       "      <td>46.315008</td>\n",
       "      <td>-95.859421</td>\n",
       "      <td>238.720863</td>\n",
       "      <td>123.039396</td>\n",
       "      <td>0.0</td>\n",
       "      <td>EVA056</td>\n",
       "      <td>False</td>\n",
       "      <td>False</td>\n",
       "      <td>False</td>\n",
       "      <td>NaN</td>\n",
       "      <td>11277.6</td>\n",
       "      <td>11574.78</td>\n",
       "      <td>1.590365e+09</td>\n",
       "      <td>1.590365e+09</td>\n",
       "    </tr>\n",
       "    <tr>\n",
       "      <th>1590364990</th>\n",
       "      <td>2</td>\n",
       "      <td>89902f</td>\n",
       "      <td>46.306814</td>\n",
       "      <td>-95.841225</td>\n",
       "      <td>239.152284</td>\n",
       "      <td>122.972199</td>\n",
       "      <td>0.0</td>\n",
       "      <td>EVA056</td>\n",
       "      <td>False</td>\n",
       "      <td>False</td>\n",
       "      <td>False</td>\n",
       "      <td>NaN</td>\n",
       "      <td>11277.6</td>\n",
       "      <td>11567.16</td>\n",
       "      <td>1.590365e+09</td>\n",
       "      <td>1.590365e+09</td>\n",
       "    </tr>\n",
       "    <tr>\n",
       "      <th>1590365000</th>\n",
       "      <td>3</td>\n",
       "      <td>89902f</td>\n",
       "      <td>46.291489</td>\n",
       "      <td>-95.807145</td>\n",
       "      <td>239.152284</td>\n",
       "      <td>122.972199</td>\n",
       "      <td>0.0</td>\n",
       "      <td>EVA056</td>\n",
       "      <td>False</td>\n",
       "      <td>False</td>\n",
       "      <td>False</td>\n",
       "      <td>NaN</td>\n",
       "      <td>11277.6</td>\n",
       "      <td>11574.78</td>\n",
       "      <td>1.590365e+09</td>\n",
       "      <td>1.590365e+09</td>\n",
       "    </tr>\n",
       "  </tbody>\n",
       "</table>\n",
       "</div>"
      ],
      "text/plain": [
       "            OBJECTID  icao24        lat        lon    velocity     heading  \\\n",
       "time                                                                         \n",
       "1590364980         1  89902f  46.315008 -95.859421  238.720863  123.039396   \n",
       "1590364990         2  89902f  46.306814 -95.841225  239.152284  122.972199   \n",
       "1590365000         3  89902f  46.291489 -95.807145  239.152284  122.972199   \n",
       "\n",
       "            vertrate  callsign  onground  alert    spi  squawk  baroaltitude  \\\n",
       "time                                                                           \n",
       "1590364980       0.0  EVA056       False  False  False     NaN       11277.6   \n",
       "1590364990       0.0  EVA056       False  False  False     NaN       11277.6   \n",
       "1590365000       0.0  EVA056       False  False  False     NaN       11277.6   \n",
       "\n",
       "            geoaltitude  lastposupdate   lastcontact  \n",
       "time                                                  \n",
       "1590364980     11574.78   1.590365e+09  1.590365e+09  \n",
       "1590364990     11567.16   1.590365e+09  1.590365e+09  \n",
       "1590365000     11574.78   1.590365e+09  1.590365e+09  "
      ]
     },
     "execution_count": 27,
     "metadata": {},
     "output_type": "execute_result"
    }
   ],
   "source": [
    "#reading and inspecting the data\n",
    "df1 = pd.read_csv('Flight_Data/flight_89902f.csv', index_col = 'time', parse_dates = True)\n",
    "print(len(df1))\n",
    "df1.head(3)"
   ]
  },
  {
   "cell_type": "markdown",
   "metadata": {},
   "source": [
    "## data Preprocessing"
   ]
  },
  {
   "cell_type": "code",
   "execution_count": 28,
   "metadata": {},
   "outputs": [
    {
     "name": "stdout",
     "output_type": "stream",
     "text": [
      "              velocity     heading  vertrate\n",
      "time                                        \n",
      "1590364980  238.720863  123.039396       0.0\n",
      "1590364990  239.152284  122.972199       0.0\n",
      "1590365000  239.152284  122.972199       0.0\n",
      "Training Shape (315, 3) (315, 2)\n",
      "Testing Shape (27, 3) (27, 2)\n",
      "Training Shape torch.Size([315, 1, 3]) torch.Size([315, 2])\n",
      "Testing Shape torch.Size([27, 1, 3]) torch.Size([27, 2])\n"
     ]
    }
   ],
   "source": [
    "# Looks like x retains all the data used to predict y... (velocity, heading, vertrate, latposupd, and lastcontact)\n",
    "# x = df1.iloc[:,4:16]\n",
    "# x = df1.drop(\"callsign\", axis=1)\n",
    "# x = x.drop(\"onground\", axis=1)\n",
    "# x = x.drop(\"alert\", axis=1)\n",
    "# x = x.drop(\"spi\", axis=1)\n",
    "# x = x.drop(\"squawk\", axis=1)\n",
    "# x = x.drop(\"baroaltitude\", axis=1)\n",
    "# x = x.drop(\"geoaltitude\", axis=1)\n",
    "# x = x.iloc[:, 4:9]\n",
    "\n",
    "#alternative method of extracting relevant variables\n",
    "columns = ['velocity', 'heading', 'vertrate']\n",
    "x =df1[columns]\n",
    "print(x.head(3))\n",
    "\n",
    "# y are both the lat and lon columns (later try and predict alt as well...)\n",
    "y =df1.iloc[:, 2:4]\n",
    "\n",
    "#print(x, y)\n",
    "# rescaling Data\n",
    "#mm used to scale values between 0-1\n",
    "mm = MinMaxScaler()\n",
    "ss = StandardScaler()\n",
    "\n",
    "x_ss = ss.fit_transform(x)\n",
    "y_mm = mm.fit_transform(y)\n",
    "\n",
    "#print(x_ss, y_mm)\n",
    "#Splitting Data (test and train)\n",
    "#the first 275 for training,\n",
    "\n",
    "x_train = x_ss[:315,:] #first 275 rows\n",
    "x_test = x_ss[315:,:] #whatever remains after 275\n",
    "\n",
    "\n",
    "y_train = y_mm[:315, :]\n",
    "y_test = y_mm[315:,:]\n",
    "\n",
    "print(\"Training Shape\", x_train.shape, y_train.shape)\n",
    "print(\"Testing Shape\", x_test.shape, y_test.shape) \n",
    "\n",
    "#convert to tensors\n",
    "x_train_tensors = Variable(torch.Tensor(x_train))\n",
    "x_test_tensors = Variable(torch.Tensor(x_test))\n",
    "\n",
    "y_train_tensors = Variable(torch.Tensor(y_train))\n",
    "y_test_tensors = Variable(torch.Tensor(y_test))\n",
    "\n",
    "# adding another dimension for time\n",
    "x_train_tensors_final = torch.reshape(x_train_tensors,   (x_train_tensors.shape[0], 1, x_train_tensors.shape[1]))\n",
    "x_test_tensors_final = torch.reshape(x_test_tensors,  (x_test_tensors.shape[0], 1, x_test_tensors.shape[1])) \n",
    "\n",
    "#comparing the tensor_final with the previous there is another dimension... why? for the timestamp?\n",
    "print(\"Training Shape\", x_train_tensors_final.shape, y_train_tensors.shape)\n",
    "print(\"Testing Shape\", x_test_tensors_final.shape, y_test_tensors.shape)"
   ]
  },
  {
   "cell_type": "markdown",
   "metadata": {},
   "source": [
    "## LSTM params"
   ]
  },
  {
   "cell_type": "code",
   "execution_count": 29,
   "metadata": {},
   "outputs": [
    {
     "name": "stdout",
     "output_type": "stream",
     "text": [
      "Epoch: 0, loss: 0.29825\n",
      "Epoch: 100, loss: 0.06502\n",
      "Epoch: 200, loss: 0.03915\n",
      "Epoch: 300, loss: 0.03829\n",
      "Epoch: 400, loss: 0.03793\n",
      "Epoch: 500, loss: 0.03768\n",
      "Epoch: 600, loss: 0.03753\n",
      "Epoch: 700, loss: 0.03741\n",
      "Epoch: 800, loss: 0.03663\n",
      "Epoch: 900, loss: 0.03295\n"
     ]
    }
   ],
   "source": [
    "num_epochs = 1000 #1000 epochs\n",
    "learning_rate = 0.001 #0.001 lr\n",
    "\n",
    "input_size = 3 #number of features\n",
    "hidden_size = 2 #number of features in hidden state\n",
    "num_layers = 1 #number of stacked lstm layers\n",
    "\n",
    "num_classes = 2 #number of output classes\n",
    "\n",
    "lstm2 = LSTM1(num_classes, input_size, hidden_size, num_layers, x_train_tensors_final.shape[1])\n",
    "lstm2\n",
    "\n",
    "#defining our loss funstion and optimizer...\n",
    "criterion = torch.nn.MSELoss()    # mean-squared error for regression\n",
    "optimizer = torch.optim.Adam(lstm2.parameters(), lr=learning_rate) \n",
    "\n",
    "# now we will loop over each epoch, calculate a loss, and imporve weights via the optimizer\n",
    "for epoch in range(num_epochs):\n",
    "    outputs = lstm2.forward(x_train_tensors_final) #forward pass\n",
    "    optimizer.zero_grad() #caluclate the gradient, manually setting to 0\n",
    " \n",
    "  # obtain the loss function\n",
    "    loss = criterion(outputs, y_train_tensors)\n",
    " \n",
    "    loss.backward() #calculates the loss of the loss function\n",
    " \n",
    "    optimizer.step() #improve from loss, i.e backprop\n",
    "    if epoch % 100 == 0:\n",
    "        print(\"Epoch: %d, loss: %1.5f\" % (epoch, loss.item()))\n",
    "        \n",
    "#why is my LSTM not improving????? ---BECAUSE of a TYPO!!"
   ]
  },
  {
   "cell_type": "code",
   "execution_count": 30,
   "metadata": {},
   "outputs": [],
   "source": [
    "torch.save(lstm2.state_dict(), \"Saved_LSTM_Models/lstm2_3inputs_2outputs_89902f.pt\")"
   ]
  },
  {
   "cell_type": "markdown",
   "metadata": {},
   "source": [
    "## Results and Visuals"
   ]
  },
  {
   "cell_type": "code",
   "execution_count": 31,
   "metadata": {},
   "outputs": [
    {
     "data": {
      "text/plain": [
       "Text(0.5, 1.0, 'Prediction for Flight 89902f')"
      ]
     },
     "execution_count": 31,
     "metadata": {},
     "output_type": "execute_result"
    },
    {
     "data": {
      "image/png": "[encoded data removed]",
      "text/plain": [
       "<Figure size 1080x720 with 4 Axes>"
      ]
     },
     "metadata": {
      "needs_background": "light"
     },
     "output_type": "display_data"
    }
   ],
   "source": [
    "# don't actually know what's happening here...\n",
    "df_X_ss = ss.transform(x) #old transformers\n",
    "df_y_mm = mm.transform(y) #old transformers\n",
    "\n",
    "#print(df_X_ss, len(df_X_ss)) #looks the same when we previously used .fit_transform\n",
    "\n",
    "df_X_ss = Variable(torch.Tensor(df_X_ss)) #converting to Tensors\n",
    "df_y_mm = Variable(torch.Tensor(df_y_mm))\n",
    "#reshaping the dataset\n",
    "df_X_ss = torch.reshape(df_X_ss, (df_X_ss.shape[0], 1, df_X_ss.shape[1])) \n",
    "\n",
    "# looking at our LSTM performance\n",
    "train_predict = lstm2(df_X_ss)#forward pass for all data rows\n",
    "data_predict = train_predict.data.numpy() #numpy conversion\n",
    "dataY_plot = df_y_mm.data.numpy()\n",
    "\n",
    "data_predict = mm.inverse_transform(data_predict) #reverse transformation\n",
    "dataY_plot = mm.inverse_transform(dataY_plot)\n",
    "\n",
    "# must reshape the data so i can plot it...\n",
    "dataY_plot_f = dataY_plot.flatten()\n",
    "p_lat = []\n",
    "p_lon = []\n",
    "a_lat = []\n",
    "a_lon = []\n",
    "for index, element in enumerate(dataY_plot_f):\n",
    "    if index % 2 == 0:\n",
    "        a_lat.append(element)\n",
    "    else:\n",
    "        a_lon.append (element)\n",
    "        \n",
    "data_predict_f = data_predict.flatten()\n",
    "for index, element in enumerate(data_predict_f):\n",
    "    if index % 2 == 0:\n",
    "        p_lat.append(element)\n",
    "    else:\n",
    "        p_lon.append (element)\n",
    "\n",
    "#added this code in hopes of coloring direction/time of my test data.\n",
    "indexlist=[]\n",
    "for i, value in enumerate(a_lat):\n",
    "    indexlist.append(i)\n",
    "#print(len(indexlist))\n",
    "\n",
    "#plot of newest lstm        \n",
    "f, ax = plt.subplots(1,2, figsize=(15, 10))\n",
    "ax[0].scatter(a_lat,a_lon, label='Actual Data', alpha= .75, c=indexlist, cmap = 'bone_r')#)#actual data\n",
    "ax[0].legend(loc='lower left')\n",
    "ax[0].scatter(p_lat,p_lon, label='Predicted Data', c=indexlist, cmap = 'hot')\n",
    "ax[0].legend(loc='lower left')\n",
    "ax[0].axvline(x=a_lat[314], c='b', linestyle='--')\n",
    "ax[0].axhline(y=a_lon[314], c='b', linestyle='--')\n",
    "ax[0].axvline(x=p_lat[314], c='r', linestyle='--')\n",
    "ax[0].axhline(y=p_lon[314], c='r', linestyle='--')\n",
    "ax[0].set_title('Flight 89902f')\n",
    "\n",
    "pl1 = ax[1].scatter(a_lat[315:],a_lon[315:], label='Actual Data', alpha= .75, c=indexlist[315:], cmap = 'bone_r')#actual data\n",
    "plt.colorbar(pl1)\n",
    "pl2 = ax[1].scatter(p_lat[315:],p_lon[315:], label='Predicted Data', c=indexlist[315:], cmap = 'hot')\n",
    "plt.colorbar(pl2)\n",
    "ax[1].set_title('Prediction for Flight 89902f')\n",
    "#data_predict"
   ]
  },
  {
   "cell_type": "code",
   "execution_count": 32,
   "metadata": {},
   "outputs": [
    {
     "name": "stdout",
     "output_type": "stream",
     "text": [
      "lat error: 0.7566203542504017 lon error: 1.277202260058345\n",
      "lat error: 0.3600756408115737 lon error: 0.6667916707225189\n"
     ]
    }
   ],
   "source": [
    "mse_lat = sklearn.metrics.mean_squared_error(a_lat, p_lat)\n",
    "rmse_lat = math.sqrt(mse_lat)\n",
    "mse_lon = sklearn.metrics.mean_squared_error(a_lon, p_lon)\n",
    "rmse_lon = math.sqrt(mse_lon)\n",
    "\n",
    "#error based on all of the data (training and test)\n",
    "print(\"lat error:\", rmse_lat, \"lon error:\", rmse_lon)\n",
    "\n",
    "mse_lat_test = sklearn.metrics.mean_squared_error(a_lat[299:], p_lat[299:])\n",
    "rmse_lat_test = math.sqrt(mse_lat_test)\n",
    "mse_lon_test = sklearn.metrics.mean_squared_error(a_lon[299:], p_lon[299:])\n",
    "rmse_lon_test = math.sqrt(mse_lon_test)\n",
    "\n",
    "#Notices the error is larger when looking at only the test data. RMSE is measured in degrees \n",
    "print(\"lat error:\", rmse_lat_test, \"lon error:\", rmse_lon_test)\n",
    "\n",
    "#what does this mean in terms of meters or another unit of measure? \n",
    "    #converting degrees to meters is a problem, and depends on where in the globe the degree is... "
   ]
  },
  {
   "cell_type": "markdown",
   "metadata": {},
   "source": [
    "### WHY?\n",
    "\n",
    "the above lstm for my second flight data is performing badly, it consistently has high error predictions on the lon values and swictches the flight direction. \n",
    "* becasue of a typo, it utilized the last parameters from the lstm1 (the wrong data, and it didn't updats inside the optimizer)\n",
    "\n",
    "The lstm opperates correctly, looking at this plotted trajectory we can see this flight is moving in NW direction. It fails to predict the path of the flight beyond a certian number of seconds (it has been currently set to predict 42 timesteps which is approximatley 7 mins)\n",
    "\n",
    "What would happen if i try to introduce more variables that calculate the differnces between coordinates in space. (see next data). \n"
   ]
  },
  {
   "cell_type": "markdown",
   "metadata": {},
   "source": [
    "### flight 89902f (with added columns for the differences between one timenstamp, or 2 timestamps)"
   ]
  },
  {
   "cell_type": "code",
   "execution_count": 22,
   "metadata": {},
   "outputs": [
    {
     "name": "stdout",
     "output_type": "stream",
     "text": [
      "342\n"
     ]
    },
    {
     "data": {
      "text/html": [
       "<div>\n",
       "<style scoped>\n",
       "    .dataframe tbody tr th:only-of-type {\n",
       "        vertical-align: middle;\n",
       "    }\n",
       "\n",
       "    .dataframe tbody tr th {\n",
       "        vertical-align: top;\n",
       "    }\n",
       "\n",
       "    .dataframe thead th {\n",
       "        text-align: right;\n",
       "    }\n",
       "</style>\n",
       "<table border=\"1\" class=\"dataframe\">\n",
       "  <thead>\n",
       "    <tr style=\"text-align: right;\">\n",
       "      <th></th>\n",
       "      <th>icao24</th>\n",
       "      <th>lat</th>\n",
       "      <th>lon</th>\n",
       "      <th>x2-x1</th>\n",
       "      <th>y2-y1</th>\n",
       "      <th>x3-x1</th>\n",
       "      <th>y3-y1</th>\n",
       "      <th>velocity</th>\n",
       "      <th>v2-v1</th>\n",
       "      <th>heading</th>\n",
       "      <th>...</th>\n",
       "      <th>vertrate</th>\n",
       "      <th>callsign</th>\n",
       "      <th>onground</th>\n",
       "      <th>alert</th>\n",
       "      <th>spi</th>\n",
       "      <th>squawk</th>\n",
       "      <th>baroaltitude</th>\n",
       "      <th>geoaltitude</th>\n",
       "      <th>lastposupdate</th>\n",
       "      <th>lastcontact</th>\n",
       "    </tr>\n",
       "    <tr>\n",
       "      <th>time</th>\n",
       "      <th></th>\n",
       "      <th></th>\n",
       "      <th></th>\n",
       "      <th></th>\n",
       "      <th></th>\n",
       "      <th></th>\n",
       "      <th></th>\n",
       "      <th></th>\n",
       "      <th></th>\n",
       "      <th></th>\n",
       "      <th></th>\n",
       "      <th></th>\n",
       "      <th></th>\n",
       "      <th></th>\n",
       "      <th></th>\n",
       "      <th></th>\n",
       "      <th></th>\n",
       "      <th></th>\n",
       "      <th></th>\n",
       "      <th></th>\n",
       "      <th></th>\n",
       "    </tr>\n",
       "  </thead>\n",
       "  <tbody>\n",
       "    <tr>\n",
       "      <th>1590364980</th>\n",
       "      <td>89902f</td>\n",
       "      <td>46.315008</td>\n",
       "      <td>-95.859421</td>\n",
       "      <td>NaN</td>\n",
       "      <td>NaN</td>\n",
       "      <td>NaN</td>\n",
       "      <td>NaN</td>\n",
       "      <td>238.720863</td>\n",
       "      <td>NaN</td>\n",
       "      <td>123.039396</td>\n",
       "      <td>...</td>\n",
       "      <td>0.0</td>\n",
       "      <td>EVA056</td>\n",
       "      <td>False</td>\n",
       "      <td>False</td>\n",
       "      <td>False</td>\n",
       "      <td>NaN</td>\n",
       "      <td>11277.6</td>\n",
       "      <td>11574.78</td>\n",
       "      <td>1590364980</td>\n",
       "      <td>1590364980</td>\n",
       "    </tr>\n",
       "    <tr>\n",
       "      <th>1590364990</th>\n",
       "      <td>89902f</td>\n",
       "      <td>46.306814</td>\n",
       "      <td>-95.841225</td>\n",
       "      <td>-0.008193</td>\n",
       "      <td>0.018196</td>\n",
       "      <td>NaN</td>\n",
       "      <td>NaN</td>\n",
       "      <td>239.152284</td>\n",
       "      <td>0.431421</td>\n",
       "      <td>122.972199</td>\n",
       "      <td>...</td>\n",
       "      <td>0.0</td>\n",
       "      <td>EVA056</td>\n",
       "      <td>False</td>\n",
       "      <td>False</td>\n",
       "      <td>False</td>\n",
       "      <td>NaN</td>\n",
       "      <td>11277.6</td>\n",
       "      <td>11567.16</td>\n",
       "      <td>1590364987</td>\n",
       "      <td>1590364989</td>\n",
       "    </tr>\n",
       "    <tr>\n",
       "      <th>1590365000</th>\n",
       "      <td>89902f</td>\n",
       "      <td>46.291489</td>\n",
       "      <td>-95.807145</td>\n",
       "      <td>-0.015326</td>\n",
       "      <td>0.034079</td>\n",
       "      <td>-0.023519</td>\n",
       "      <td>0.052275</td>\n",
       "      <td>239.152284</td>\n",
       "      <td>0.000000</td>\n",
       "      <td>122.972199</td>\n",
       "      <td>...</td>\n",
       "      <td>0.0</td>\n",
       "      <td>EVA056</td>\n",
       "      <td>False</td>\n",
       "      <td>False</td>\n",
       "      <td>False</td>\n",
       "      <td>NaN</td>\n",
       "      <td>11277.6</td>\n",
       "      <td>11574.78</td>\n",
       "      <td>1590365000</td>\n",
       "      <td>1590365000</td>\n",
       "    </tr>\n",
       "  </tbody>\n",
       "</table>\n",
       "<p>3 rows × 21 columns</p>\n",
       "</div>"
      ],
      "text/plain": [
       "            icao24        lat        lon     x2-x1     y2-y1     x3-x1  \\\n",
       "time                                                                     \n",
       "1590364980  89902f  46.315008 -95.859421       NaN       NaN       NaN   \n",
       "1590364990  89902f  46.306814 -95.841225 -0.008193  0.018196       NaN   \n",
       "1590365000  89902f  46.291489 -95.807145 -0.015326  0.034079 -0.023519   \n",
       "\n",
       "               y3-y1    velocity     v2-v1     heading  ...  vertrate  \\\n",
       "time                                                    ...             \n",
       "1590364980       NaN  238.720863       NaN  123.039396  ...       0.0   \n",
       "1590364990       NaN  239.152284  0.431421  122.972199  ...       0.0   \n",
       "1590365000  0.052275  239.152284  0.000000  122.972199  ...       0.0   \n",
       "\n",
       "            callsign onground  alert    spi  squawk  baroaltitude  \\\n",
       "time                                                                \n",
       "1590364980  EVA056      False  False  False     NaN       11277.6   \n",
       "1590364990  EVA056      False  False  False     NaN       11277.6   \n",
       "1590365000  EVA056      False  False  False     NaN       11277.6   \n",
       "\n",
       "            geoaltitude  lastposupdate  lastcontact  \n",
       "time                                                 \n",
       "1590364980     11574.78     1590364980   1590364980  \n",
       "1590364990     11567.16     1590364987   1590364989  \n",
       "1590365000     11574.78     1590365000   1590365000  \n",
       "\n",
       "[3 rows x 21 columns]"
      ]
     },
     "execution_count": 22,
     "metadata": {},
     "output_type": "execute_result"
    }
   ],
   "source": [
    "#reading and inspecting the data\n",
    "df2 = pd.read_csv('flight_89902f_dif.csv', index_col = 'time', parse_dates = True)\n",
    "print(len(df2))\n",
    "df2.head(3)"
   ]
  },
  {
   "cell_type": "markdown",
   "metadata": {},
   "source": [
    "## data preprossing"
   ]
  },
  {
   "cell_type": "code",
   "execution_count": 23,
   "metadata": {},
   "outputs": [
    {
     "data": {
      "text/html": [
       "<div>\n",
       "<style scoped>\n",
       "    .dataframe tbody tr th:only-of-type {\n",
       "        vertical-align: middle;\n",
       "    }\n",
       "\n",
       "    .dataframe tbody tr th {\n",
       "        vertical-align: top;\n",
       "    }\n",
       "\n",
       "    .dataframe thead th {\n",
       "        text-align: right;\n",
       "    }\n",
       "</style>\n",
       "<table border=\"1\" class=\"dataframe\">\n",
       "  <thead>\n",
       "    <tr style=\"text-align: right;\">\n",
       "      <th></th>\n",
       "      <th>x2-x1</th>\n",
       "      <th>y2-y1</th>\n",
       "      <th>x3-x1</th>\n",
       "      <th>y3-y1</th>\n",
       "      <th>velocity</th>\n",
       "      <th>v2-v1</th>\n",
       "      <th>heading</th>\n",
       "      <th>h2-h1</th>\n",
       "      <th>vertrate</th>\n",
       "      <th>lastposupdate</th>\n",
       "      <th>lastcontact</th>\n",
       "    </tr>\n",
       "    <tr>\n",
       "      <th>time</th>\n",
       "      <th></th>\n",
       "      <th></th>\n",
       "      <th></th>\n",
       "      <th></th>\n",
       "      <th></th>\n",
       "      <th></th>\n",
       "      <th></th>\n",
       "      <th></th>\n",
       "      <th></th>\n",
       "      <th></th>\n",
       "      <th></th>\n",
       "    </tr>\n",
       "  </thead>\n",
       "  <tbody>\n",
       "    <tr>\n",
       "      <th>1590365000</th>\n",
       "      <td>-0.015326</td>\n",
       "      <td>0.034079</td>\n",
       "      <td>-0.023519</td>\n",
       "      <td>0.052275</td>\n",
       "      <td>239.152284</td>\n",
       "      <td>0.000000</td>\n",
       "      <td>122.972199</td>\n",
       "      <td>0.000000</td>\n",
       "      <td>0.00000</td>\n",
       "      <td>1590365000</td>\n",
       "      <td>1590365000</td>\n",
       "    </tr>\n",
       "    <tr>\n",
       "      <th>1590365010</th>\n",
       "      <td>-0.010650</td>\n",
       "      <td>0.023599</td>\n",
       "      <td>-0.025976</td>\n",
       "      <td>0.057678</td>\n",
       "      <td>239.432650</td>\n",
       "      <td>0.280366</td>\n",
       "      <td>123.075476</td>\n",
       "      <td>0.103278</td>\n",
       "      <td>0.00000</td>\n",
       "      <td>1590365009</td>\n",
       "      <td>1590365009</td>\n",
       "    </tr>\n",
       "    <tr>\n",
       "      <th>1590365020</th>\n",
       "      <td>-0.011871</td>\n",
       "      <td>0.026299</td>\n",
       "      <td>-0.022521</td>\n",
       "      <td>0.049897</td>\n",
       "      <td>239.432650</td>\n",
       "      <td>0.000000</td>\n",
       "      <td>123.075476</td>\n",
       "      <td>0.000000</td>\n",
       "      <td>0.00000</td>\n",
       "      <td>1590365019</td>\n",
       "      <td>1590365019</td>\n",
       "    </tr>\n",
       "    <tr>\n",
       "      <th>1590365030</th>\n",
       "      <td>-0.012406</td>\n",
       "      <td>0.027543</td>\n",
       "      <td>-0.024277</td>\n",
       "      <td>0.053841</td>\n",
       "      <td>239.863894</td>\n",
       "      <td>0.431244</td>\n",
       "      <td>123.008413</td>\n",
       "      <td>-0.067063</td>\n",
       "      <td>0.00000</td>\n",
       "      <td>1590365030</td>\n",
       "      <td>1590365030</td>\n",
       "    </tr>\n",
       "    <tr>\n",
       "      <th>1590365040</th>\n",
       "      <td>-0.004578</td>\n",
       "      <td>0.010115</td>\n",
       "      <td>-0.016984</td>\n",
       "      <td>0.037658</td>\n",
       "      <td>239.432650</td>\n",
       "      <td>-0.431244</td>\n",
       "      <td>123.075476</td>\n",
       "      <td>0.067063</td>\n",
       "      <td>0.00000</td>\n",
       "      <td>1590365034</td>\n",
       "      <td>1590365036</td>\n",
       "    </tr>\n",
       "    <tr>\n",
       "      <th>...</th>\n",
       "      <td>...</td>\n",
       "      <td>...</td>\n",
       "      <td>...</td>\n",
       "      <td>...</td>\n",
       "      <td>...</td>\n",
       "      <td>...</td>\n",
       "      <td>...</td>\n",
       "      <td>...</td>\n",
       "      <td>...</td>\n",
       "      <td>...</td>\n",
       "      <td>...</td>\n",
       "    </tr>\n",
       "    <tr>\n",
       "      <th>1590368350</th>\n",
       "      <td>-0.011719</td>\n",
       "      <td>0.007303</td>\n",
       "      <td>-0.022996</td>\n",
       "      <td>0.014396</td>\n",
       "      <td>139.015106</td>\n",
       "      <td>-0.683676</td>\n",
       "      <td>155.047153</td>\n",
       "      <td>0.102286</td>\n",
       "      <td>-5.20192</td>\n",
       "      <td>1590368350</td>\n",
       "      <td>1590368350</td>\n",
       "    </tr>\n",
       "    <tr>\n",
       "      <th>1590368360</th>\n",
       "      <td>-0.011078</td>\n",
       "      <td>0.006991</td>\n",
       "      <td>-0.022797</td>\n",
       "      <td>0.014295</td>\n",
       "      <td>138.548852</td>\n",
       "      <td>-0.466253</td>\n",
       "      <td>154.957402</td>\n",
       "      <td>-0.089751</td>\n",
       "      <td>-4.87680</td>\n",
       "      <td>1590368359</td>\n",
       "      <td>1590368360</td>\n",
       "    </tr>\n",
       "    <tr>\n",
       "      <th>1590368370</th>\n",
       "      <td>-0.011640</td>\n",
       "      <td>0.007292</td>\n",
       "      <td>-0.022718</td>\n",
       "      <td>0.014283</td>\n",
       "      <td>139.015106</td>\n",
       "      <td>0.466253</td>\n",
       "      <td>155.047153</td>\n",
       "      <td>0.089751</td>\n",
       "      <td>-4.87680</td>\n",
       "      <td>1590368370</td>\n",
       "      <td>1590368370</td>\n",
       "    </tr>\n",
       "    <tr>\n",
       "      <th>1590368380</th>\n",
       "      <td>-0.011065</td>\n",
       "      <td>0.006940</td>\n",
       "      <td>-0.022705</td>\n",
       "      <td>0.014232</td>\n",
       "      <td>137.865233</td>\n",
       "      <td>-1.149873</td>\n",
       "      <td>155.060603</td>\n",
       "      <td>0.013450</td>\n",
       "      <td>-5.20192</td>\n",
       "      <td>1590368380</td>\n",
       "      <td>1590368380</td>\n",
       "    </tr>\n",
       "    <tr>\n",
       "      <th>1590368390</th>\n",
       "      <td>-0.011673</td>\n",
       "      <td>0.007241</td>\n",
       "      <td>-0.022738</td>\n",
       "      <td>0.014181</td>\n",
       "      <td>137.182066</td>\n",
       "      <td>-0.683167</td>\n",
       "      <td>155.164832</td>\n",
       "      <td>0.104229</td>\n",
       "      <td>-4.87680</td>\n",
       "      <td>1590368390</td>\n",
       "      <td>1590368390</td>\n",
       "    </tr>\n",
       "  </tbody>\n",
       "</table>\n",
       "<p>340 rows × 11 columns</p>\n",
       "</div>"
      ],
      "text/plain": [
       "               x2-x1     y2-y1     x3-x1     y3-y1    velocity     v2-v1  \\\n",
       "time                                                                       \n",
       "1590365000 -0.015326  0.034079 -0.023519  0.052275  239.152284  0.000000   \n",
       "1590365010 -0.010650  0.023599 -0.025976  0.057678  239.432650  0.280366   \n",
       "1590365020 -0.011871  0.026299 -0.022521  0.049897  239.432650  0.000000   \n",
       "1590365030 -0.012406  0.027543 -0.024277  0.053841  239.863894  0.431244   \n",
       "1590365040 -0.004578  0.010115 -0.016984  0.037658  239.432650 -0.431244   \n",
       "...              ...       ...       ...       ...         ...       ...   \n",
       "1590368350 -0.011719  0.007303 -0.022996  0.014396  139.015106 -0.683676   \n",
       "1590368360 -0.011078  0.006991 -0.022797  0.014295  138.548852 -0.466253   \n",
       "1590368370 -0.011640  0.007292 -0.022718  0.014283  139.015106  0.466253   \n",
       "1590368380 -0.011065  0.006940 -0.022705  0.014232  137.865233 -1.149873   \n",
       "1590368390 -0.011673  0.007241 -0.022738  0.014181  137.182066 -0.683167   \n",
       "\n",
       "               heading     h2-h1  vertrate  lastposupdate  lastcontact  \n",
       "time                                                                    \n",
       "1590365000  122.972199  0.000000   0.00000     1590365000   1590365000  \n",
       "1590365010  123.075476  0.103278   0.00000     1590365009   1590365009  \n",
       "1590365020  123.075476  0.000000   0.00000     1590365019   1590365019  \n",
       "1590365030  123.008413 -0.067063   0.00000     1590365030   1590365030  \n",
       "1590365040  123.075476  0.067063   0.00000     1590365034   1590365036  \n",
       "...                ...       ...       ...            ...          ...  \n",
       "1590368350  155.047153  0.102286  -5.20192     1590368350   1590368350  \n",
       "1590368360  154.957402 -0.089751  -4.87680     1590368359   1590368360  \n",
       "1590368370  155.047153  0.089751  -4.87680     1590368370   1590368370  \n",
       "1590368380  155.060603  0.013450  -5.20192     1590368380   1590368380  \n",
       "1590368390  155.164832  0.104229  -4.87680     1590368390   1590368390  \n",
       "\n",
       "[340 rows x 11 columns]"
      ]
     },
     "execution_count": 23,
     "metadata": {},
     "output_type": "execute_result"
    }
   ],
   "source": [
    "# Looks like x retains all the data used to prdict y... (velocity, heading, vertrate, latposupd, and lastcontact)\n",
    "x = df2.iloc[:,4:20]\n",
    "x = df2.drop(\"callsign\", axis=1)\n",
    "x = x.drop(\"onground\", axis=1)\n",
    "x = x.drop(\"alert\", axis=1)\n",
    "x = x.drop(\"spi\", axis=1)\n",
    "x = x.drop(\"squawk\", axis=1)\n",
    "x = x.drop(\"baroaltitude\", axis=1)\n",
    "x = x.drop(\"geoaltitude\", axis=1)\n",
    "x = x.iloc[2:, 3:14] #had to remove first two rows due to nans...(loss won't compute)\n",
    "# y are both the lat and lon columns (later try and predict alt as well...)\n",
    "y =df2.iloc[2:, 1:3]\n",
    "\n",
    "x\n"
   ]
  },
  {
   "cell_type": "code",
   "execution_count": 24,
   "metadata": {},
   "outputs": [
    {
     "name": "stdout",
     "output_type": "stream",
     "text": [
      "Training Shape (300, 11) (300, 2)\n",
      "Testing Shape (40, 11) (40, 2)\n",
      "Training Shape torch.Size([300, 1, 11]) torch.Size([300, 2])\n",
      "Testing Shape torch.Size([40, 1, 11]) torch.Size([40, 2])\n"
     ]
    }
   ],
   "source": [
    "# rescaling Data\n",
    "#mm used to scale values between 0-1\n",
    "mm = MinMaxScaler()\n",
    "ss = StandardScaler()\n",
    "\n",
    "x_ss = ss.fit_transform(x)\n",
    "y_mm = mm.fit_transform(y)\n",
    "\n",
    "#print(x_ss, y_mm)\n",
    "#Splitting Data (test and train)\n",
    "#the first 275 for training,\n",
    "\n",
    "x_train = x_ss[:300,:] #first 275 rows\n",
    "x_test = x_ss[300:,:] #whatever remains after 275\n",
    "\n",
    "\n",
    "y_train = y_mm[:300, :]\n",
    "y_test = y_mm[300:,:]\n",
    "\n",
    "print(\"Training Shape\", x_train.shape, y_train.shape)\n",
    "print(\"Testing Shape\", x_test.shape, y_test.shape) \n",
    "\n",
    "#convert to tensors\n",
    "x_train_tensors = Variable(torch.Tensor(x_train))\n",
    "x_test_tensors = Variable(torch.Tensor(x_test))\n",
    "\n",
    "y_train_tensors = Variable(torch.Tensor(y_train))\n",
    "y_test_tensors = Variable(torch.Tensor(y_test))\n",
    "\n",
    "# adding another dimension for time\n",
    "x_train_tensors_final = torch.reshape(x_train_tensors,   (x_train_tensors.shape[0], 1, x_train_tensors.shape[1]))\n",
    "x_test_tensors_final = torch.reshape(x_test_tensors,  (x_test_tensors.shape[0], 1, x_test_tensors.shape[1])) \n",
    "\n",
    "#comparing the tensor_final with the previous there is another dimension... why? for the timestamp?\n",
    "print(\"Training Shape\", x_train_tensors_final.shape, y_train_tensors.shape)\n",
    "print(\"Testing Shape\", x_test_tensors_final.shape, y_test_tensors.shape)"
   ]
  },
  {
   "cell_type": "markdown",
   "metadata": {},
   "source": [
    "## LSTM params"
   ]
  },
  {
   "cell_type": "code",
   "execution_count": 25,
   "metadata": {},
   "outputs": [
    {
     "name": "stdout",
     "output_type": "stream",
     "text": [
      "Epoch: 0, loss: 0.28953\n",
      "Epoch: 100, loss: 0.03401\n",
      "Epoch: 200, loss: 0.00319\n",
      "Epoch: 300, loss: 0.00263\n",
      "Epoch: 400, loss: 0.00251\n",
      "Epoch: 500, loss: 0.00246\n",
      "Epoch: 600, loss: 0.00243\n",
      "Epoch: 700, loss: 0.00241\n",
      "Epoch: 800, loss: 0.00238\n",
      "Epoch: 900, loss: 0.00031\n"
     ]
    }
   ],
   "source": [
    "num_epochs = 1000 #1000 epochs\n",
    "learning_rate = 0.001 #0.001 lr\n",
    "\n",
    "input_size = 11 #number of features\n",
    "hidden_size = 2 #number of features in hidden state\n",
    "num_layers = 1 #number of stacked lstm layers\n",
    "\n",
    "num_classes = 2 #number of output classes\n",
    "\n",
    "lstm3 = LSTM1(num_classes, input_size, hidden_size, num_layers, x_train_tensors_final.shape[1])\n",
    "lstm3\n",
    "\n",
    "#defining our loss funstion and optimizer...\n",
    "criterion = torch.nn.MSELoss()    # mean-squared error for regression\n",
    "optimizer = torch.optim.Adam(lstm3.parameters(), lr=learning_rate) \n",
    "\n",
    "# now we will loop pver each epoch, calculate a loss, and imporve weights via the optimizer\n",
    "for epoch in range(num_epochs):\n",
    "    outputs = lstm3.forward(x_train_tensors_final) #forward pass\n",
    "    optimizer.zero_grad() #caluclate the gradient, manually setting to 0\n",
    " \n",
    "  # obtain the loss function\n",
    "    loss = criterion(outputs, y_train_tensors)\n",
    " \n",
    "    loss.backward() #calculates the loss of the loss function\n",
    " \n",
    "    optimizer.step() #improve from loss, i.e backprop\n",
    "    if epoch % 100 == 0:\n",
    "        print(\"Epoch: %d, loss: %1.5f\" % (epoch, loss.item()))\n",
    "        "
   ]
  },
  {
   "cell_type": "markdown",
   "metadata": {},
   "source": [
    "## Visuals and Results"
   ]
  },
  {
   "cell_type": "code",
   "execution_count": 26,
   "metadata": {},
   "outputs": [
    {
     "data": {
      "text/plain": [
       "<matplotlib.colorbar.Colorbar at 0x7f319aae8a00>"
      ]
     },
     "execution_count": 26,
     "metadata": {},
     "output_type": "execute_result"
    },
    {
     "data": {
      "image/png": "[encoded data removed]",
      "text/plain": [
       "<Figure size 864x648 with 4 Axes>"
      ]
     },
     "metadata": {
      "needs_background": "light"
     },
     "output_type": "display_data"
    }
   ],
   "source": [
    "# don't actually know what's happening here...\n",
    "df_X_ss = ss.transform(x) #old transformers\n",
    "df_y_mm = mm.transform(y) #old transformers\n",
    "\n",
    "#print(df_X_ss, len(df_X_ss)) #looks the same when we previously used .fit_transform\n",
    "\n",
    "df_X_ss = Variable(torch.Tensor(df_X_ss)) #converting to Tensors\n",
    "df_y_mm = Variable(torch.Tensor(df_y_mm))\n",
    "#reshaping the dataset\n",
    "df_X_ss = torch.reshape(df_X_ss, (df_X_ss.shape[0], 1, df_X_ss.shape[1])) \n",
    "\n",
    "# looking at our LSTM performance\n",
    "train_predict = lstm3(df_X_ss)#forward pass for all data rows\n",
    "data_predict = train_predict.data.numpy() #numpy conversion\n",
    "dataY_plot = df_y_mm.data.numpy()\n",
    "\n",
    "data_predict = mm.inverse_transform(data_predict) #reverse transformation\n",
    "dataY_plot = mm.inverse_transform(dataY_plot)\n",
    "\n",
    "# must reshape the data so i can plot it...\n",
    "dataY_plot_f = dataY_plot.flatten()\n",
    "p_lat = []\n",
    "p_lon = []\n",
    "a_lat = []\n",
    "a_lon = []\n",
    "for index, element in enumerate(dataY_plot_f):\n",
    "    if index % 2 == 0:\n",
    "        a_lat.append(element)\n",
    "    else:\n",
    "        a_lon.append (element)\n",
    "        \n",
    "data_predict_f = data_predict.flatten()\n",
    "for index, element in enumerate(data_predict_f):\n",
    "    if index % 2 == 0:\n",
    "        p_lat.append(element)\n",
    "    else:\n",
    "        p_lon.append (element)\n",
    "\n",
    "#added this code in hopes of coloring direction/time of my test data.\n",
    "indexlist=[]\n",
    "for i, value in enumerate(a_lat):\n",
    "    indexlist.append(i)\n",
    "    \n",
    "#plot of newest lstm        \n",
    "f, ax = plt.subplots(1,2, figsize=(12, 9))\n",
    "ax[0].scatter(a_lat,a_lon, label='Actual Data', alpha= .5)#actual data\n",
    "ax[0].legend(loc='lower left')\n",
    "ax[0].scatter(p_lat,p_lon, label='Predicted Data')\n",
    "ax[0].legend(loc='lower left')\n",
    "ax[0].axvline(x=p_lat[299], c='r', linestyle='--')\n",
    "ax[0].axhline(y=p_lon[299], c='r', linestyle='--')\n",
    "ax[0].axvline(x=a_lat[299], c='b', linestyle='--')\n",
    "ax[0].axhline(y=a_lon[299], c='b', linestyle='--')\n",
    "ax[0].set_title('Flight 89902f- Additional Variables')\n",
    "\n",
    "pl1 = ax[1].scatter(a_lat[299:],a_lon[299:], label='Actual Data', alpha= .75, c=indexlist[299:], cmap = 'bone_r')#actual data\n",
    "plt.colorbar(pl1)\n",
    "pl2 = ax[1].scatter(p_lat[299:],p_lon[299:], label='Predicted Data', c=indexlist[299:], cmap = 'hot')\n",
    "plt.colorbar(pl2)\n",
    "ax[1].set_title('Prediction for Flight 89902f')\n",
    "# Add basemap\n",
    "# contextily.add_basemap(\n",
    "#     ax, \n",
    "#     source=contextily.providers.CartoDB.Positron, \n",
    "#     crs= 'EPSG:4326'\n",
    "# )\n",
    "# #data_predict"
   ]
  },
  {
   "cell_type": "code",
   "execution_count": 27,
   "metadata": {},
   "outputs": [
    {
     "name": "stdout",
     "output_type": "stream",
     "text": [
      "lat error: 0.19681964164089286 lon error: 0.38554050629678666\n",
      "lat error: 0.5501053091580412 lon error: 1.082327461323867\n"
     ]
    }
   ],
   "source": [
    "# measuring the accuracy of my predicted and the actual points via RMSE\n",
    "import sklearn.metrics\n",
    "import math\n",
    "\n",
    "mse_lat = sklearn.metrics.mean_squared_error(a_lat, p_lat)\n",
    "rmse_lat = math.sqrt(mse_lat)\n",
    "mse_lon = sklearn.metrics.mean_squared_error(a_lon, p_lon)\n",
    "rmse_lon = math.sqrt(mse_lon)\n",
    "\n",
    "#error based on all of the data (training and test)\n",
    "print(\"lat error:\", rmse_lat, \"lon error:\", rmse_lon)\n",
    "\n",
    "mse_lat_test = sklearn.metrics.mean_squared_error(a_lat[299:], p_lat[299:])\n",
    "rmse_lat_test = math.sqrt(mse_lat_test)\n",
    "mse_lon_test = sklearn.metrics.mean_squared_error(a_lon[299:], p_lon[299:])\n",
    "rmse_lon_test = math.sqrt(mse_lon_test)\n",
    "\n",
    "#Notices the error is larger when looking at only the test data. RMSE is measured in degrees \n",
    "print(\"lat error:\", rmse_lat_test, \"lon error:\", rmse_lon_test)\n",
    "\n",
    "#what does this mean in terms of meters or another unit of measure? \n",
    "    #converting degrees to meters is a problem, and depends on where in the globe the degree is... "
   ]
  },
  {
   "cell_type": "markdown",
   "metadata": {},
   "source": [
    "### ac9c37 (crazy circles, with relatively low altitude most of the flight)"
   ]
  },
  {
   "cell_type": "code",
   "execution_count": null,
   "metadata": {},
   "outputs": [],
   "source": []
  },
  {
   "cell_type": "code",
   "execution_count": null,
   "metadata": {},
   "outputs": [],
   "source": []
  }
 ],
 "metadata": {
  "kernelspec": {
   "display_name": "Python 3 (ipykernel)",
   "language": "python",
   "name": "python3"
  },
  "language_info": {
   "codemirror_mode": {
    "name": "ipython",
    "version": 3
   },
   "file_extension": ".py",
   "mimetype": "text/x-python",
   "name": "python",
   "nbconvert_exporter": "python",
   "pygments_lexer": "ipython3",
   "version": "3.7.10"
  }
 },
 "nbformat": 4,
 "nbformat_minor": 4
}
